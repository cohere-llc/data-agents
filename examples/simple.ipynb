{
 "cells": [
  {
   "cell_type": "markdown",
   "id": "eb2f1f71",
   "metadata": {},
   "source": [
    "# Simple Example\n",
    "\n",
    "This notebook demonstrates how to use the `data_agents` package with data from two sources."
   ]
  },
  {
   "cell_type": "markdown",
   "id": "c9dbc25a",
   "metadata": {},
   "source": [
    "## 1. Import Required Packages\n",
    "\n",
    "First, we need to import the necessary packages."
   ]
  },
  {
   "cell_type": "code",
   "execution_count": 1,
   "id": "6b0bdfda",
   "metadata": {},
   "outputs": [],
   "source": [
    "import data_agents as da"
   ]
  },
  {
   "cell_type": "markdown",
   "id": "9e06cbe5",
   "metadata": {},
   "source": [
    "## 2. Authenticate\n",
    "\n",
    "The `Authenticate()` function is designed to handle authentication for various available services."
   ]
  },
  {
   "cell_type": "code",
   "execution_count": 2,
   "id": "7b4672bf",
   "metadata": {},
   "outputs": [],
   "source": [
    "da.Authenticate()"
   ]
  },
  {
   "cell_type": "markdown",
   "id": "bc2370c6",
   "metadata": {},
   "source": [
    "## Summary\n",
    "\n",
    "This notebook demonstrated how to use the `data_agents` package with data from two sources:\n",
    "\n",
    "1. **Authentication**: Authenticate the user with connected services"
   ]
  }
 ],
 "metadata": {
  "kernelspec": {
   "display_name": "data-agents (3.9.6)",
   "language": "python",
   "name": "python3"
  },
  "language_info": {
   "codemirror_mode": {
    "name": "ipython",
    "version": 3
   },
   "file_extension": ".py",
   "mimetype": "text/x-python",
   "name": "python",
   "nbconvert_exporter": "python",
   "pygments_lexer": "ipython3",
   "version": "3.9.6"
  }
 },
 "nbformat": 4,
 "nbformat_minor": 5
}
