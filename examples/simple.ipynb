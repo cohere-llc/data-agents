{
 "cells": [
  {
   "cell_type": "markdown",
   "id": "eb2f1f71",
   "metadata": {},
   "source": [
    "# Simple Example\n",
    "\n",
    "This notebook demonstrates how to use the `data_agents` package with data from two sources."
   ]
  },
  {
   "cell_type": "markdown",
   "id": "c9dbc25a",
   "metadata": {},
   "source": [
    "## 1. Import Required Packages\n",
    "\n",
    "First, we need to import the necessary packages."
   ]
  },
  {
   "cell_type": "code",
   "execution_count": 1,
   "id": "6b0bdfda",
   "metadata": {},
   "outputs": [],
   "source": [
    "import data_agents as da"
   ]
  },
  {
   "cell_type": "markdown",
   "id": "9e06cbe5",
   "metadata": {},
   "source": [
    "## 2. Authenticate\n",
    "\n",
    "The `Authenticate()` function is designed to handle authentication for various available services."
   ]
  },
  {
   "cell_type": "code",
   "execution_count": 2,
   "id": "7b4672bf",
   "metadata": {},
   "outputs": [],
   "source": [
    "da.Authenticate()"
   ]
  },
  {
   "cell_type": "markdown",
   "id": "48847459",
   "metadata": {},
   "source": [
    "## 3. Create a FeatureCollection from a CSV file\n",
    "\n",
    "The `FeatureCollection` class is used to work with sets of properties related to specific `Geometry`s. Here, we create a `FeatureCollection` from a dictionary read from a CSV file."
   ]
  },
  {
   "cell_type": "code",
   "execution_count": 4,
   "id": "1f999eea",
   "metadata": {},
   "outputs": [
    {
     "name": "stdout",
     "output_type": "stream",
     "text": [
      "{'type': 'FeatureCollection', 'features': [{'type': 'Feature', 'geometry': {'type': 'Point', 'coordinates': [64.69829698, -148.326993]}, 'properties': {'Site': 'APEX', 'Type': 'upland', 'Wrighton_name': 'APEX_UP-D', 'Core_Depth_cm': '194', 'Fluxes': 'Y', 'Latitude': '64.69829698', 'Longitude': '-148.326993'}}, {'type': 'Feature', 'geometry': {'type': 'Point', 'coordinates': [64.69744203, -148.325142]}, 'properties': {'Site': 'APEX', 'Type': 'upland', 'Wrighton_name': 'APEX_UP-S', 'Core_Depth_cm': '133', 'Fluxes': 'Y', 'Latitude': '64.69744203', 'Longitude': '-148.325142'}}, {'type': 'Feature', 'geometry': {'type': 'Point', 'coordinates': [64.69604266, -148.3205729]}, 'properties': {'Site': 'APEX', 'Type': 'valley bottom', 'Wrighton_name': 'APEX_VB', 'Core_Depth_cm': '56', 'Fluxes': 'Y', 'Latitude': '64.69604266', 'Longitude': '-148.3205729'}}, {'type': 'Feature', 'geometry': {'type': 'Point', 'coordinates': [64.69685496, -148.323837]}, 'properties': {'Site': 'APEX', 'Type': 'transition', 'Wrighton_name': 'APEX_TRAN', 'Core_Depth_cm': '160', 'Fluxes': 'Y', 'Latitude': '64.69685496', 'Longitude': '-148.323837'}}, {'type': 'Feature', 'geometry': {'type': 'Point', 'coordinates': [64.69623552, -148.3220923]}, 'properties': {'Site': 'APEX', 'Type': 'valley bottom', 'Wrighton_name': 'APEX_BOG-S', 'Core_Depth_cm': '149', 'Fluxes': 'Y', 'Latitude': '64.69623552', 'Longitude': '-148.3220923'}}, {'type': 'Feature', 'geometry': {'type': 'Point', 'coordinates': [64.92033804, -147.820039]}, 'properties': {'Site': 'BTL', 'Type': 'slump', 'Wrighton_name': 'BTL_SLUMP1', 'Core_Depth_cm': '81', 'Fluxes': 'N', 'Latitude': '64.92033804', 'Longitude': '-147.820039'}}, {'type': 'Feature', 'geometry': {'type': 'Point', 'coordinates': [64.92036201, -147.820059]}, 'properties': {'Site': 'BTL', 'Type': 'slump', 'Wrighton_name': 'BTL_SLUMP2', 'Core_Depth_cm': '156', 'Fluxes': 'N', 'Latitude': '64.92036201', 'Longitude': '-147.820059'}}, {'type': 'Feature', 'geometry': {'type': 'Point', 'coordinates': [64.92053401, -147.822086]}, 'properties': {'Site': 'BTL', 'Type': 'thermokarst', 'Wrighton_name': 'BTL_TK-A10_1', 'Core_Depth_cm': '145', 'Fluxes': 'N', 'Latitude': '64.92053401', 'Longitude': '-147.822086'}}, {'type': 'Feature', 'geometry': {'type': 'Point', 'coordinates': [64.92053401, -147.822086]}, 'properties': {'Site': 'BTL', 'Type': 'thermokarst', 'Wrighton_name': 'BTL_TK-A10_2', 'Core_Depth_cm': '110', 'Fluxes': 'N', 'Latitude': '64.92053401', 'Longitude': '-147.822086'}}, {'type': 'Feature', 'geometry': {'type': 'Point', 'coordinates': [64.92031801, -147.820063]}, 'properties': {'Site': 'BTL', 'Type': 'wetland edge', 'Wrighton_name': 'BTL_WET', 'Core_Depth_cm': '68', 'Fluxes': 'N', 'Latitude': '64.92031801', 'Longitude': '-147.820063'}}, {'type': 'Feature', 'geometry': {'type': 'Point', 'coordinates': [64.92073098, -147.822429]}, 'properties': {'Site': 'BTL', 'Type': 'upland', 'Wrighton_name': 'BTL_UP', 'Core_Depth_cm': '210', 'Fluxes': 'N', 'Latitude': '64.92073098', 'Longitude': '-147.822429'}}, {'type': 'Feature', 'geometry': {'type': 'Point', 'coordinates': [64.92022002, -147.822117]}, 'properties': {'Site': 'BTL', 'Type': 'transition', 'Wrighton_name': 'BTL_TRAN', 'Core_Depth_cm': '231', 'Fluxes': 'N', 'Latitude': '64.92022002', 'Longitude': '-147.822117'}}, {'type': 'Feature', 'geometry': {'type': 'Point', 'coordinates': [64.92020301, -147.822058]}, 'properties': {'Site': 'BTL', 'Type': 'valley bottom', 'Wrighton_name': 'BTL_VB', 'Core_Depth_cm': '165', 'Fluxes': 'N', 'Latitude': '64.92020301', 'Longitude': '-147.822058'}}, {'type': 'Feature', 'geometry': {'type': 'Point', 'coordinates': [64.92040925, -147.8203884]}, 'properties': {'Site': 'BTL', 'Type': 'slump', 'Wrighton_name': 'BTL_SLUMP3', 'Core_Depth_cm': '181', 'Fluxes': 'N', 'Latitude': '64.92040925', 'Longitude': '-147.8203884'}}, {'type': 'Feature', 'geometry': {'type': 'Point', 'coordinates': [64.94973391, -147.6175723]}, 'properties': {'Site': 'GLEN', 'Type': 'thermokarst', 'Wrighton_name': 'PFT_TK1', 'Core_Depth_cm': '195', 'Fluxes': 'Y', 'Latitude': '64.94973391', 'Longitude': '-147.6175723'}}, {'type': 'Feature', 'geometry': {'type': 'Point', 'coordinates': [64.94973408, -147.61753]}, 'properties': {'Site': 'GLEN', 'Type': 'wetland edge', 'Wrighton_name': 'PFT_TK2', 'Core_Depth_cm': '171', 'Fluxes': 'Y', 'Latitude': '64.94973408', 'Longitude': '-147.61753'}}, {'type': 'Feature', 'geometry': {'type': 'Point', 'coordinates': [64.95100545, -147.6203746]}, 'properties': {'Site': 'GLEN', 'Type': 'PFT', 'Wrighton_name': 'PFT_S', 'Core_Depth_cm': '142', 'Fluxes': 'Y', 'Latitude': '64.95100545', 'Longitude': '-147.6203746'}}, {'type': 'Feature', 'geometry': {'type': 'Point', 'coordinates': [64.95110924, -147.6148098]}, 'properties': {'Site': 'GLEN', 'Type': 'valley bottom', 'Wrighton_name': 'GLEN_VB', 'Core_Depth_cm': '181', 'Fluxes': 'Y', 'Latitude': '64.95110924', 'Longitude': '-147.6148098'}}, {'type': 'Feature', 'geometry': {'type': 'Point', 'coordinates': [64.95092361, -147.6141282]}, 'properties': {'Site': 'GLEN', 'Type': 'transition', 'Wrighton_name': 'GLEN_TRAN', 'Core_Depth_cm': '160', 'Fluxes': 'Y', 'Latitude': '64.95092361', 'Longitude': '-147.6141282'}}, {'type': 'Feature', 'geometry': {'type': 'Point', 'coordinates': [64.94938403, -147.6132039]}, 'properties': {'Site': 'GLEN', 'Type': 'upland', 'Wrighton_name': 'GLEN_UP', 'Core_Depth_cm': '158', 'Fluxes': 'Y', 'Latitude': '64.94938403', 'Longitude': '-147.6132039'}}, {'type': 'Feature', 'geometry': {'type': 'Point', 'coordinates': [65.0217856, -147.7166982]}, 'properties': {'Site': 'VAUL', 'Type': 'upland', 'Wrighton_name': 'VAUL_UP-S', 'Core_Depth_cm': '102', 'Fluxes': 'Y', 'Latitude': '65.0217856', 'Longitude': '-147.7166982'}}, {'type': 'Feature', 'geometry': {'type': 'Point', 'coordinates': [65.02149931, -147.7165207]}, 'properties': {'Site': 'VAUL', 'Type': 'upland', 'Wrighton_name': 'VAUL_UP-D', 'Core_Depth_cm': '50', 'Fluxes': 'Y', 'Latitude': '65.02149931', 'Longitude': '-147.7165207'}}, {'type': 'Feature', 'geometry': {'type': 'Point', 'coordinates': [65.0315939, -147.7128211]}, 'properties': {'Site': 'VAUL', 'Type': 'tundra', 'Wrighton_name': 'VAUL_TUNDRA', 'Core_Depth_cm': '171', 'Fluxes': 'Y', 'Latitude': '65.0315939', 'Longitude': '-147.7128211'}}, {'type': 'Feature', 'geometry': {'type': 'Point', 'coordinates': [65.02942652, -147.7157143]}, 'properties': {'Site': 'VAUL', 'Type': 'valley bottom', 'Wrighton_name': 'VAUL_VB', 'Core_Depth_cm': '163', 'Fluxes': 'Y', 'Latitude': '65.02942652', 'Longitude': '-147.7157143'}}, {'type': 'Feature', 'geometry': {'type': 'Point', 'coordinates': [65.02195842, -147.7180824]}, 'properties': {'Site': 'VAUL', 'Type': 'transition', 'Wrighton_name': 'VAUL_TRAN', 'Core_Depth_cm': '132', 'Fluxes': 'Y', 'Latitude': '65.02195842', 'Longitude': '-147.7180824'}}, {'type': 'Feature', 'geometry': {'type': 'Point', 'coordinates': [65.03258874, -147.7149497]}, 'properties': {'Site': 'VAUL', 'Type': 'wetland edge', 'Wrighton_name': 'VAUL_WL', 'Core_Depth_cm': '212', 'Fluxes': 'Y', 'Latitude': '65.03258874', 'Longitude': '-147.7149497'}}]}\n"
     ]
    }
   ],
   "source": [
    "muri_coring_fc = da.FeatureCollection.from_csv(\n",
    "    \"../etc/nasa_power_example/muri_coring_locations.csv\",\n",
    "    da.Geometry.to_point([\"Latitude\", \"Longitude\"]),\n",
    ")\n",
    "\n",
    "print(muri_coring_fc.get_info())"
   ]
  },
  {
   "cell_type": "markdown",
   "id": "bc2370c6",
   "metadata": {},
   "source": [
    "## Summary\n",
    "\n",
    "This notebook demonstrated how to use the `data_agents` package with data from two sources:\n",
    "\n",
    "1. **Authentication**: Authenticate the user with connected services"
   ]
  }
 ],
 "metadata": {
  "kernelspec": {
   "display_name": "data-agents (3.9.6)",
   "language": "python",
   "name": "python3"
  },
  "language_info": {
   "codemirror_mode": {
    "name": "ipython",
    "version": 3
   },
   "file_extension": ".py",
   "mimetype": "text/x-python",
   "name": "python",
   "nbconvert_exporter": "python",
   "pygments_lexer": "ipython3",
   "version": "3.9.6"
  }
 },
 "nbformat": 4,
 "nbformat_minor": 5
}
