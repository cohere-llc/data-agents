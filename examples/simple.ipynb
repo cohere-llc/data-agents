{
 "cells": [
  {
   "cell_type": "markdown",
   "id": "eb2f1f71",
   "metadata": {},
   "source": [
    "# Simple Example\n",
    "\n",
    "This notebook demonstrates how to use the `data_agents` package with data from two sources."
   ]
  },
  {
   "cell_type": "markdown",
   "id": "c9dbc25a",
   "metadata": {},
   "source": [
    "## 1. Import Required Packages\n",
    "\n",
    "First, we need to import the necessary packages."
   ]
  },
  {
   "cell_type": "code",
   "execution_count": null,
   "id": "6b0bdfda",
   "metadata": {},
   "outputs": [],
   "source": [
    "import data_agents as da"
   ]
  },
  {
   "cell_type": "markdown",
   "id": "9e06cbe5",
   "metadata": {},
   "source": [
    "## 2. Authenticate\n",
    "\n",
    "The `Authenticate()` function is designed to handle authentication for various available services."
   ]
  },
  {
   "cell_type": "code",
   "execution_count": null,
   "id": "7b4672bf",
   "metadata": {},
   "outputs": [],
   "source": [
    "da.Authenticate()"
   ]
  },
  {
   "cell_type": "markdown",
   "id": "48847459",
   "metadata": {},
   "source": [
    "## 3. Create a FeatureCollection from a CSV file\n",
    "\n",
    "The `FeatureCollection` class is used to work with sets of properties related to specific `Geometry`s. Here, we create a `FeatureCollection` from a dictionary read from a CSV file."
   ]
  },
  {
   "cell_type": "code",
   "execution_count": null,
   "id": "1f999eea",
   "metadata": {},
   "outputs": [],
   "source": [
    "muri_coring_fc = da.FeatureCollection.from_csv(\n",
    "    \"../etc/nasa_power_example/muri_coring_locations.csv\",\n",
    "    da.Geometry.to_point([\"Latitude\", \"Longitude\"]),\n",
    ")\n",
    "\n",
    "# print all contents of the feature collection\n",
    "print(muri_coring_fc.get_info())\n",
    "\n",
    "# print just the properties available in the feature collection\n",
    "print(list(muri_coring_fc.properties().keys()))"
   ]
  },
  {
   "cell_type": "markdown",
   "id": "b9f496c7",
   "metadata": {},
   "source": [
    "## 4. Create a FeatureCollection from an External Service\n",
    "\n",
    "We can also create a `FeatureCollection` based on an external data source. Here, we get a `FeatureCollection` for NASA POWER data."
   ]
  },
  {
   "cell_type": "code",
   "execution_count": null,
   "id": "1d259e91",
   "metadata": {},
   "outputs": [],
   "source": [
    "nasa_power_fc = da.FeatureCollection.from_service(\"NASA_POWER/DAILY/AG\")\n",
    "\n",
    "# print the properties available from the NASA POWER FeatureCollection related to\n",
    "# temperature and precipitation\n",
    "print([(key, val[\"name\"]) for key, val in nasa_power_fc.properties(\".*temp.*\").items()])\n",
    "print(\n",
    "    [(key, val[\"name\"]) for key, val in nasa_power_fc.properties(\".*precip.*\").items()]\n",
    ")"
   ]
  },
  {
   "cell_type": "markdown",
   "id": "bc2370c6",
   "metadata": {},
   "source": [
    "## Summary\n",
    "\n",
    "This notebook demonstrated how to use the `data_agents` package with data from two sources:\n",
    "\n",
    "1. **Authentication**: Authenticate the user with connected services"
   ]
  }
 ],
 "metadata": {
  "kernelspec": {
   "display_name": "data-agents (3.9.6)",
   "language": "python",
   "name": "python3"
  },
  "language_info": {
   "codemirror_mode": {
    "name": "ipython",
    "version": 3
   },
   "file_extension": ".py",
   "mimetype": "text/x-python",
   "name": "python",
   "nbconvert_exporter": "python",
   "pygments_lexer": "ipython3",
   "version": "3.9.6"
  }
 },
 "nbformat": 4,
 "nbformat_minor": 5
}
