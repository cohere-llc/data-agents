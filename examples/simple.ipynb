{
 "cells": [
  {
   "cell_type": "markdown",
   "id": "eb2f1f71",
   "metadata": {},
   "source": [
    "# Simple Example\n",
    "\n",
    "This notebook demonstrates how to use the `data_agents` package with data from two sources."
   ]
  },
  {
   "cell_type": "markdown",
   "id": "c9dbc25a",
   "metadata": {},
   "source": [
    "## 1. Import Required Packages\n",
    "\n",
    "First, we need to import the necessary packages."
   ]
  },
  {
   "cell_type": "code",
   "execution_count": 11,
   "id": "6b0bdfda",
   "metadata": {},
   "outputs": [],
   "source": [
    "import data_agents as da"
   ]
  },
  {
   "cell_type": "markdown",
   "id": "9e06cbe5",
   "metadata": {},
   "source": [
    "## 2. Authenticate\n",
    "\n",
    "The `Authenticate()` function is designed to handle authentication for various available services."
   ]
  },
  {
   "cell_type": "code",
   "execution_count": 12,
   "id": "7b4672bf",
   "metadata": {},
   "outputs": [],
   "source": [
    "da.Authenticate()"
   ]
  },
  {
   "cell_type": "markdown",
   "id": "48847459",
   "metadata": {},
   "source": [
    "## 3. Create a FeatureCollection from a CSV file\n",
    "\n",
    "The `FeatureCollection` class is used to work with sets of properties related to specific `Geometry`s. Here, we create a `FeatureCollection` from a dictionary read from a CSV file."
   ]
  },
  {
   "cell_type": "code",
   "execution_count": 13,
   "id": "1f999eea",
   "metadata": {},
   "outputs": [
    {
     "name": "stdout",
     "output_type": "stream",
     "text": [
      "{'type': 'FeatureCollection', 'features': [{'type': 'Feature', 'geometry': {'type': 'Point', 'coordinates': [64.69829698, -148.326993]}, 'properties': {'Site': 'APEX', 'Type': 'upland', 'Wrighton_name': 'APEX_UP-D', 'Core_Depth_cm': '194', 'Fluxes': 'Y', 'Latitude': '64.69829698', 'Longitude': '-148.326993'}}, {'type': 'Feature', 'geometry': {'type': 'Point', 'coordinates': [64.69744203, -148.325142]}, 'properties': {'Site': 'APEX', 'Type': 'upland', 'Wrighton_name': 'APEX_UP-S', 'Core_Depth_cm': '133', 'Fluxes': 'Y', 'Latitude': '64.69744203', 'Longitude': '-148.325142'}}, {'type': 'Feature', 'geometry': {'type': 'Point', 'coordinates': [64.69604266, -148.3205729]}, 'properties': {'Site': 'APEX', 'Type': 'valley bottom', 'Wrighton_name': 'APEX_VB', 'Core_Depth_cm': '56', 'Fluxes': 'Y', 'Latitude': '64.69604266', 'Longitude': '-148.3205729'}}, {'type': 'Feature', 'geometry': {'type': 'Point', 'coordinates': [64.69685496, -148.323837]}, 'properties': {'Site': 'APEX', 'Type': 'transition', 'Wrighton_name': 'APEX_TRAN', 'Core_Depth_cm': '160', 'Fluxes': 'Y', 'Latitude': '64.69685496', 'Longitude': '-148.323837'}}, {'type': 'Feature', 'geometry': {'type': 'Point', 'coordinates': [64.69623552, -148.3220923]}, 'properties': {'Site': 'APEX', 'Type': 'valley bottom', 'Wrighton_name': 'APEX_BOG-S', 'Core_Depth_cm': '149', 'Fluxes': 'Y', 'Latitude': '64.69623552', 'Longitude': '-148.3220923'}}, {'type': 'Feature', 'geometry': {'type': 'Point', 'coordinates': [64.92033804, -147.820039]}, 'properties': {'Site': 'BTL', 'Type': 'slump', 'Wrighton_name': 'BTL_SLUMP1', 'Core_Depth_cm': '81', 'Fluxes': 'N', 'Latitude': '64.92033804', 'Longitude': '-147.820039'}}, {'type': 'Feature', 'geometry': {'type': 'Point', 'coordinates': [64.92036201, -147.820059]}, 'properties': {'Site': 'BTL', 'Type': 'slump', 'Wrighton_name': 'BTL_SLUMP2', 'Core_Depth_cm': '156', 'Fluxes': 'N', 'Latitude': '64.92036201', 'Longitude': '-147.820059'}}, {'type': 'Feature', 'geometry': {'type': 'Point', 'coordinates': [64.92053401, -147.822086]}, 'properties': {'Site': 'BTL', 'Type': 'thermokarst', 'Wrighton_name': 'BTL_TK-A10_1', 'Core_Depth_cm': '145', 'Fluxes': 'N', 'Latitude': '64.92053401', 'Longitude': '-147.822086'}}, {'type': 'Feature', 'geometry': {'type': 'Point', 'coordinates': [64.92053401, -147.822086]}, 'properties': {'Site': 'BTL', 'Type': 'thermokarst', 'Wrighton_name': 'BTL_TK-A10_2', 'Core_Depth_cm': '110', 'Fluxes': 'N', 'Latitude': '64.92053401', 'Longitude': '-147.822086'}}, {'type': 'Feature', 'geometry': {'type': 'Point', 'coordinates': [64.92031801, -147.820063]}, 'properties': {'Site': 'BTL', 'Type': 'wetland edge', 'Wrighton_name': 'BTL_WET', 'Core_Depth_cm': '68', 'Fluxes': 'N', 'Latitude': '64.92031801', 'Longitude': '-147.820063'}}, {'type': 'Feature', 'geometry': {'type': 'Point', 'coordinates': [64.92073098, -147.822429]}, 'properties': {'Site': 'BTL', 'Type': 'upland', 'Wrighton_name': 'BTL_UP', 'Core_Depth_cm': '210', 'Fluxes': 'N', 'Latitude': '64.92073098', 'Longitude': '-147.822429'}}, {'type': 'Feature', 'geometry': {'type': 'Point', 'coordinates': [64.92022002, -147.822117]}, 'properties': {'Site': 'BTL', 'Type': 'transition', 'Wrighton_name': 'BTL_TRAN', 'Core_Depth_cm': '231', 'Fluxes': 'N', 'Latitude': '64.92022002', 'Longitude': '-147.822117'}}, {'type': 'Feature', 'geometry': {'type': 'Point', 'coordinates': [64.92020301, -147.822058]}, 'properties': {'Site': 'BTL', 'Type': 'valley bottom', 'Wrighton_name': 'BTL_VB', 'Core_Depth_cm': '165', 'Fluxes': 'N', 'Latitude': '64.92020301', 'Longitude': '-147.822058'}}, {'type': 'Feature', 'geometry': {'type': 'Point', 'coordinates': [64.92040925, -147.8203884]}, 'properties': {'Site': 'BTL', 'Type': 'slump', 'Wrighton_name': 'BTL_SLUMP3', 'Core_Depth_cm': '181', 'Fluxes': 'N', 'Latitude': '64.92040925', 'Longitude': '-147.8203884'}}, {'type': 'Feature', 'geometry': {'type': 'Point', 'coordinates': [64.94973391, -147.6175723]}, 'properties': {'Site': 'GLEN', 'Type': 'thermokarst', 'Wrighton_name': 'PFT_TK1', 'Core_Depth_cm': '195', 'Fluxes': 'Y', 'Latitude': '64.94973391', 'Longitude': '-147.6175723'}}, {'type': 'Feature', 'geometry': {'type': 'Point', 'coordinates': [64.94973408, -147.61753]}, 'properties': {'Site': 'GLEN', 'Type': 'wetland edge', 'Wrighton_name': 'PFT_TK2', 'Core_Depth_cm': '171', 'Fluxes': 'Y', 'Latitude': '64.94973408', 'Longitude': '-147.61753'}}, {'type': 'Feature', 'geometry': {'type': 'Point', 'coordinates': [64.95100545, -147.6203746]}, 'properties': {'Site': 'GLEN', 'Type': 'PFT', 'Wrighton_name': 'PFT_S', 'Core_Depth_cm': '142', 'Fluxes': 'Y', 'Latitude': '64.95100545', 'Longitude': '-147.6203746'}}, {'type': 'Feature', 'geometry': {'type': 'Point', 'coordinates': [64.95110924, -147.6148098]}, 'properties': {'Site': 'GLEN', 'Type': 'valley bottom', 'Wrighton_name': 'GLEN_VB', 'Core_Depth_cm': '181', 'Fluxes': 'Y', 'Latitude': '64.95110924', 'Longitude': '-147.6148098'}}, {'type': 'Feature', 'geometry': {'type': 'Point', 'coordinates': [64.95092361, -147.6141282]}, 'properties': {'Site': 'GLEN', 'Type': 'transition', 'Wrighton_name': 'GLEN_TRAN', 'Core_Depth_cm': '160', 'Fluxes': 'Y', 'Latitude': '64.95092361', 'Longitude': '-147.6141282'}}, {'type': 'Feature', 'geometry': {'type': 'Point', 'coordinates': [64.94938403, -147.6132039]}, 'properties': {'Site': 'GLEN', 'Type': 'upland', 'Wrighton_name': 'GLEN_UP', 'Core_Depth_cm': '158', 'Fluxes': 'Y', 'Latitude': '64.94938403', 'Longitude': '-147.6132039'}}, {'type': 'Feature', 'geometry': {'type': 'Point', 'coordinates': [65.0217856, -147.7166982]}, 'properties': {'Site': 'VAUL', 'Type': 'upland', 'Wrighton_name': 'VAUL_UP-S', 'Core_Depth_cm': '102', 'Fluxes': 'Y', 'Latitude': '65.0217856', 'Longitude': '-147.7166982'}}, {'type': 'Feature', 'geometry': {'type': 'Point', 'coordinates': [65.02149931, -147.7165207]}, 'properties': {'Site': 'VAUL', 'Type': 'upland', 'Wrighton_name': 'VAUL_UP-D', 'Core_Depth_cm': '50', 'Fluxes': 'Y', 'Latitude': '65.02149931', 'Longitude': '-147.7165207'}}, {'type': 'Feature', 'geometry': {'type': 'Point', 'coordinates': [65.0315939, -147.7128211]}, 'properties': {'Site': 'VAUL', 'Type': 'tundra', 'Wrighton_name': 'VAUL_TUNDRA', 'Core_Depth_cm': '171', 'Fluxes': 'Y', 'Latitude': '65.0315939', 'Longitude': '-147.7128211'}}, {'type': 'Feature', 'geometry': {'type': 'Point', 'coordinates': [65.02942652, -147.7157143]}, 'properties': {'Site': 'VAUL', 'Type': 'valley bottom', 'Wrighton_name': 'VAUL_VB', 'Core_Depth_cm': '163', 'Fluxes': 'Y', 'Latitude': '65.02942652', 'Longitude': '-147.7157143'}}, {'type': 'Feature', 'geometry': {'type': 'Point', 'coordinates': [65.02195842, -147.7180824]}, 'properties': {'Site': 'VAUL', 'Type': 'transition', 'Wrighton_name': 'VAUL_TRAN', 'Core_Depth_cm': '132', 'Fluxes': 'Y', 'Latitude': '65.02195842', 'Longitude': '-147.7180824'}}, {'type': 'Feature', 'geometry': {'type': 'Point', 'coordinates': [65.03258874, -147.7149497]}, 'properties': {'Site': 'VAUL', 'Type': 'wetland edge', 'Wrighton_name': 'VAUL_WL', 'Core_Depth_cm': '212', 'Fluxes': 'Y', 'Latitude': '65.03258874', 'Longitude': '-147.7149497'}}]}\n",
      "['Core_Depth_cm', 'Wrighton_name', 'Fluxes', 'Latitude', 'Longitude', 'Site', 'Type']\n"
     ]
    }
   ],
   "source": [
    "muri_coring_fc = da.FeatureCollection.from_csv(\n",
    "    \"../etc/nasa_power_example/muri_coring_locations.csv\",\n",
    "    da.Geometry.to_point([\"Latitude\", \"Longitude\"]),\n",
    ")\n",
    "\n",
    "# print all contents of the feature collection\n",
    "print(muri_coring_fc.get_info())\n",
    "\n",
    "# print just the properties available in the feature collection\n",
    "print(list(muri_coring_fc.properties().keys()))"
   ]
  },
  {
   "cell_type": "markdown",
   "id": "b9f496c7",
   "metadata": {},
   "source": [
    "## 4. Create a FeatureCollection from an External Service\n",
    "\n",
    "We can also create a `FeatureCollection` based on an external data source. Here, we get a `FeatureCollection` for NASA POWER data."
   ]
  },
  {
   "cell_type": "code",
   "execution_count": 15,
   "id": "1d259e91",
   "metadata": {},
   "outputs": [
    {
     "name": "stdout",
     "output_type": "stream",
     "text": [
      "[('CLOUD_BT', 'Cloud Bottom Temperature'), ('CLOUD_BT_MAX', 'Maximum Cloud Bottom Temperature'), ('CLOUD_BT_MIN', 'Minimum Cloud Bottom Temperature'), ('CLOUD_TT', 'Cloud Top Temperature'), ('CLOUD_TT_MAX', 'Maximum Cloud Top Temperature'), ('CLOUD_TT_MIN', 'Minimum Cloud Top Temperature'), ('T10M', 'Temperature at 10 Meters'), ('T10M_MAX', 'Temperature at 10 Meters Maximum'), ('T10M_MIN', 'Temperature at 10 Meters Minimum'), ('T10M_RANGE', 'Temperature at 10 Meters Range'), ('T2M', 'Temperature at 2 Meters'), ('T2MWET', 'Wet Bulb Temperature at 2 Meters'), ('T2M_MAX', 'Temperature at 2 Meters Maximum'), ('T2M_MIN', 'Temperature at 2 Meters Minimum'), ('T2M_RANGE', 'Temperature at 2 Meters Range'), ('TROPT', 'Tropopause Temperature using blended TROPP estimate.'), ('TS', 'Earth Skin Temperature'), ('TSOIL1', 'Soil Temperatures Layer 1'), ('TSOIL2', 'Soil Temperatures Layer 2'), ('TSOIL3', 'Soil Temperatures Layer 3'), ('TSOIL4', 'Soil Temperatures Layer 4'), ('TSOIL5', 'Soil Temperatures Layer 5'), ('TSOIL6', 'Soil Temperatures Layer 6'), ('TSURF', 'Surface Temperature of Land and Snow'), ('TS_ADJ', 'Earth Skin Temperature Adjusted'), ('TS_MAX', 'Earth Skin Temperature Maximum'), ('TS_MIN', 'Earth Skin Temperature Minimum'), ('TS_RANGE', 'Earth Skin Temperature Range')]\n",
      "[('IMERG_PRECLIQUID_PROB', 'Probability of Liquid Precipitation'), ('IMERG_PRECTOT', 'Total Precipitation'), ('IMERG_PRECTOT_COUNT', 'Count of Precipitation Retrievals'), ('PRECSNO', 'Snow Precipitation'), ('PRECSNOLAND', 'Snow Precipitation Land'), ('PRECTOTCORR', 'Precipitation Corrected'), ('PW', 'Precipitable Water'), ('TQV', 'Total Column Precipitable Water')]\n"
     ]
    }
   ],
   "source": [
    "nasa_power_fc = da.FeatureCollection.from_service(\"NASA_POWER/DAILY/AG\")\n",
    "\n",
    "# print the properties available from the NASA POWER FeatureCollection related to\n",
    "# temperature and precipitation\n",
    "print([(key, val[\"name\"]) for key, val in nasa_power_fc.properties(\".*temp.*\").items()])\n",
    "print(\n",
    "    [(key, val[\"name\"]) for key, val in nasa_power_fc.properties(\".*precip.*\").items()]\n",
    ")"
   ]
  },
  {
   "cell_type": "markdown",
   "id": "bc2370c6",
   "metadata": {},
   "source": [
    "## Summary\n",
    "\n",
    "This notebook demonstrated how to use the `data_agents` package with data from two sources:\n",
    "\n",
    "1. **Authentication**: Authenticate the user with connected services"
   ]
  }
 ],
 "metadata": {
  "kernelspec": {
   "display_name": "data-agents (3.9.6)",
   "language": "python",
   "name": "python3"
  },
  "language_info": {
   "codemirror_mode": {
    "name": "ipython",
    "version": 3
   },
   "file_extension": ".py",
   "mimetype": "text/x-python",
   "name": "python",
   "nbconvert_exporter": "python",
   "pygments_lexer": "ipython3",
   "version": "3.9.6"
  }
 },
 "nbformat": 4,
 "nbformat_minor": 5
}
